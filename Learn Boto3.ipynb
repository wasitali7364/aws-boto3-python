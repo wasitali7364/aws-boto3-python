{
 "cells": [
  {
   "cell_type": "markdown",
   "id": "f2019d64",
   "metadata": {},
   "source": [
    "# some useful boto commands"
   ]
  },
  {
   "cell_type": "code",
   "execution_count": 2,
   "id": "49674fa8",
   "metadata": {},
   "outputs": [],
   "source": [
    "import boto3\n",
    "import pandas as pd"
   ]
  },
  {
   "cell_type": "code",
   "execution_count": 3,
   "id": "00067cc1",
   "metadata": {},
   "outputs": [],
   "source": [
    "# create a session\n",
    "s3 = boto3.resource(service_name = 's3')"
   ]
  },
  {
   "cell_type": "code",
   "execution_count": 13,
   "id": "4c9d4fd9",
   "metadata": {},
   "outputs": [],
   "source": [
    "# print all buckets name\n",
    "bucket_names = []\n",
    "for bucket in s3.buckets.all():\n",
    "    bucket_names.append(bucket.name)"
   ]
  },
  {
   "cell_type": "code",
   "execution_count": 16,
   "id": "df841796",
   "metadata": {},
   "outputs": [
    {
     "data": {
      "text/plain": [
       "['actionable-offer-campaigns',\n",
       " 'c2fo-arx-fss-award-files',\n",
       " 'c2fo-blitz-tagging-prod',\n",
       " 'c2fo-eu-direct-mail-sftp',\n",
       " 'c2fo-invoice-upload-prod',\n",
       " 'c2fo-s3-access-logs',\n",
       " 'c2foamazon-uat',\n",
       " 'c2focloudtrail',\n",
       " 'c2foeslap-indevload',\n",
       " 'c2foupload-infss',\n",
       " 'cost-account-map-442501350342',\n",
       " 'im-25-cloudtrail',\n",
       " 'secops-automation-pipeline',\n",
       " 'usw2-partner-vpn-testing-f5c0d070-8d0f-4664-be09-aa680c96f851']"
      ]
     },
     "execution_count": 16,
     "metadata": {},
     "output_type": "execute_result"
    }
   ],
   "source": [
    "bucket_names[0::20]"
   ]
  },
  {
   "cell_type": "markdown",
   "id": "740e0b21",
   "metadata": {},
   "source": [
    "## Upload File on S3 Bucket\n"
   ]
  },
  {
   "cell_type": "code",
   "id": "740e0b21",
   "metadata": {},
   "outputs": [],
   "source": [
    "obj = 'analytics/Test/'\n",
    "s3.Bucket('gstn-infss').upload_file(Filename='friends.csv',Key=obj + 'friends.csv')"
   ]
  },
  {
   "cell_type": "markdown",
   "id": "11ac45b6",
   "metadata": {},
   "source": [
    "## check if file uploaded successfully. This prints the file name\n"
    "for obj in s3.Bucket('gstn-infss').objects.all():\n",
    "    if 'friends.csv' in obj.key:\n",
    "        print(obj)"
   ]
  },
  {
   "cell_type": "code",
   "execution_count": 5,
   "id": "7acea1fd",
   "metadata": {},
   "outputs": [],
   "source": [
    "# Load csv file directly into python\n",
    "obj = s3.Bucket( 'gstn-infss') .Object('analytics/Test/friends.csv').get()\n",
    "foo = pd.read_csv(obj['Body'], index_col=0)"
   ]
  },
  {
   "cell_type": "code",
   "execution_count": 21,
   "id": "455c4a5a",
   "metadata": {},
   "outputs": [
    {
     "data": {
      "text/html": [
       "<div>\n",
       "<style scoped>\n",
       "    .dataframe tbody tr th:only-of-type {\n",
       "        vertical-align: middle;\n",
       "    }\n",
       "\n",
       "    .dataframe tbody tr th {\n",
       "        vertical-align: top;\n",
       "    }\n",
       "\n",
       "    .dataframe thead th {\n",
       "        text-align: right;\n",
       "    }\n",
       "</style>\n",
       "<table border=\"1\" class=\"dataframe\">\n",
       "  <thead>\n",
       "    <tr style=\"text-align: right;\">\n",
       "      <th></th>\n",
       "    </tr>\n",
       "    <tr>\n",
       "      <th>name</th>\n",
       "    </tr>\n",
       "  </thead>\n",
       "  <tbody>\n",
       "    <tr>\n",
       "      <th>phoebe</th>\n",
       "    </tr>\n",
       "    <tr>\n",
       "      <th>rachel</th>\n",
       "    </tr>\n",
       "    <tr>\n",
       "      <th>monica</th>\n",
       "    </tr>\n",
       "    <tr>\n",
       "      <th>ross</th>\n",
       "    </tr>\n",
       "    <tr>\n",
       "      <th>chandler</th>\n",
       "    </tr>\n",
       "  </tbody>\n",
       "</table>\n",
       "</div>"
      ],
      "text/plain": [
       "Empty DataFrame\n",
       "Columns: []\n",
       "Index: [phoebe, rachel, monica, ross, chandler]"
      ]
     },
     "execution_count": 21,
     "metadata": {},
     "output_type": "execute_result"
    }
   ],
   "source": [
    "foo.head()"
   ]
  }
 ],
 "metadata": {
  "kernelspec": {
   "display_name": "Python 3 (ipykernel)",
   "language": "python",
   "name": "python3"
  },
  "language_info": {
   "codemirror_mode": {
    "name": "ipython",
    "version": 3
   },
   "file_extension": ".py",
   "mimetype": "text/x-python",
   "name": "python",
   "nbconvert_exporter": "python",
   "pygments_lexer": "ipython3",
   "version": "3.9.7"
  }
 },
 "nbformat": 4,
 "nbformat_minor": 5
}
